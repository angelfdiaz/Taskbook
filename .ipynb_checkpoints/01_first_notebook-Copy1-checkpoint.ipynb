{
 "cells": [
  {
   "cell_type": "markdown",
   "id": "9082ddb5",
   "metadata": {},
   "source": [
    "# Introduction\n",
    "\n",
    "This is my _first_ Jupyter notebook\n"
   ]
  },
  {
   "cell_type": "code",
   "execution_count": 1,
   "id": "ae6661f9",
   "metadata": {},
   "outputs": [],
   "source": [
    "x = 5\n",
    "y = 6 "
   ]
  },
  {
   "cell_type": "code",
   "execution_count": 2,
   "id": "9b22fefd",
   "metadata": {},
   "outputs": [],
   "source": [
    "z = x + y"
   ]
  },
  {
   "cell_type": "code",
   "execution_count": 3,
   "id": "349a9fcc",
   "metadata": {},
   "outputs": [
    {
     "name": "stdout",
     "output_type": "stream",
     "text": [
      "11\n"
     ]
    }
   ],
   "source": [
    "print(z)"
   ]
  },
  {
   "cell_type": "code",
   "execution_count": null,
   "id": "3239115a",
   "metadata": {},
   "outputs": [],
   "source": []
  }
 ],
 "metadata": {
  "kernelspec": {
   "display_name": "Python 3 (ipykernel)",
   "language": "python",
   "name": "python3"
  },
  "language_info": {
   "codemirror_mode": {
    "name": "ipython",
    "version": 3
   },
   "file_extension": ".py",
   "mimetype": "text/x-python",
   "name": "python",
   "nbconvert_exporter": "python",
   "pygments_lexer": "ipython3",
   "version": "3.9.7"
  }
 },
 "nbformat": 4,
 "nbformat_minor": 5
}
